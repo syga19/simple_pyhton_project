{
 "cells": [
  {
   "cell_type": "code",
   "execution_count": null,
   "id": "b4552a53",
   "metadata": {},
   "outputs": [],
   "source": [
    "## 09-28 dienos excex. 6 uzduotis"
   ]
  },
  {
   "cell_type": "code",
   "execution_count": 7,
   "id": "e5c0da9b",
   "metadata": {},
   "outputs": [
    {
     "name": "stdout",
     "output_type": "stream",
     "text": [
      "True\n"
     ]
    }
   ],
   "source": [
    "s = input()\n",
    "types_for_s = {\"(\": \")\", \"[\": \"]\", \"{\": \"}\"}\n",
    "for i in range(0, len(s), 2):\n",
    "    if types_for_s[s[i]] == s[i+1]:\n",
    "        print(\"True\")\n",
    "    else:\n",
    "        print(\"Wrong\")\n",
    "        break\n",
    "\n"
   ]
  },
  {
   "cell_type": "code",
   "execution_count": 24,
   "id": "d7df19f7",
   "metadata": {},
   "outputs": [
    {
     "name": "stdout",
     "output_type": "stream",
     "text": [
      "Wrong\n"
     ]
    }
   ],
   "source": [
    "s = input()\n",
    "\n",
    "for i in range(0, len(s), 2):\n",
    "    if ord(s[i]) == ord(s[i+1]) - 1:\n",
    "        print(\"True\")\n",
    "    elif ord(s[i]) == ord(s[i+1]) - 2:\n",
    "        print(\"True\")\n",
    "    else:\n",
    "        print(\"Wrong\")\n",
    "        break"
   ]
  },
  {
   "cell_type": "code",
   "execution_count": null,
   "id": "4f121b12",
   "metadata": {},
   "outputs": [],
   "source": [
    "## 10 uzdavinys (su sachmatais)"
   ]
  },
  {
   "cell_type": "code",
   "execution_count": 41,
   "id": "80686692",
   "metadata": {},
   "outputs": [
    {
     "name": "stdout",
     "output_type": "stream",
     "text": [
      "Black\n"
     ]
    }
   ],
   "source": [
    "s = input()\n",
    "\n",
    "word           = ord(s[0])\n",
    "number_of_word = int(s[1])\n",
    "\n",
    "if (word + number_of_word) % 2 == 0:\n",
    "    print(\"Black\") \n",
    "else:\n",
    "    print(\"White\")    "
   ]
  },
  {
   "cell_type": "code",
   "execution_count": null,
   "id": "d84e2ba6",
   "metadata": {},
   "outputs": [],
   "source": [
    "##11"
   ]
  },
  {
   "cell_type": "code",
   "execution_count": 42,
   "id": "7b1e0791",
   "metadata": {},
   "outputs": [
    {
     "name": "stdout",
     "output_type": "stream",
     "text": [
      "a\n"
     ]
    }
   ],
   "source": [
    "arr = [\"d\", \"b\", \"c\", \"b\", \"c\", \"a\"]\n",
    "k = 2\n",
    "\n",
    "arr_disc = [i for i in arr if arr.count(i) == 1]\n",
    "\n",
    "if len(arr_disc) >= k:\n",
    "    print(arr_disc[k-1])\n",
    "else:\n",
    "    print(\"\")    \n"
   ]
  },
  {
   "cell_type": "code",
   "execution_count": null,
   "id": "37e62eca",
   "metadata": {},
   "outputs": [],
   "source": [
    "##12"
   ]
  },
  {
   "cell_type": "code",
   "execution_count": 64,
   "id": "6e2f494b",
   "metadata": {},
   "outputs": [
    {
     "name": "stdout",
     "output_type": "stream",
     "text": [
      "We cannot type word because the l key is broken\n",
      "We cannot type word because the t key is broken\n"
     ]
    }
   ],
   "source": [
    "text = input()\n",
    "brokenLetters = \"lt\"\n",
    "\n",
    "list_of_letters = [*text] ## splitinam i letters\n",
    "\n",
    "for i in brokenLetters:\n",
    "    for j in list_of_letters:\n",
    "        if i == j:\n",
    "            print(\"We cannot type word because the \" + i  +\" key is broken\")\n"
   ]
  },
  {
   "cell_type": "code",
   "execution_count": 68,
   "id": "589ede7a",
   "metadata": {},
   "outputs": [],
   "source": [
    "text = input()\n",
    "b = set(text)\n",
    "a = set(\"lo\")\n",
    "c = b.intersection(a)\n",
    "\n",
    "if len(c) > 0:\n",
    "    print(\"We cannot type word because the ? key is broken\")\n",
    "else:\n",
    "    print(text)\n"
   ]
  },
  {
   "cell_type": "code",
   "execution_count": 72,
   "id": "ed9b1d4c",
   "metadata": {},
   "outputs": [
    {
     "name": "stdout",
     "output_type": "stream",
     "text": [
      "['joji', 'arklio']\n",
      "2\n"
     ]
    }
   ],
   "source": [
    "def can_write_word(word, broken_letters):\n",
    "    if len(set(word).intersection(set(broken_letters))) > 0:\n",
    "        return False\n",
    "    return True\n",
    "\n",
    "##can_write_word(input(), \"pl\") \n",
    "text = input()\n",
    "arr = [word for word in text.split() if can_write_word(word, \"ut\")]\n",
    "print(arr)\n",
    "print(len(arr))"
   ]
  },
  {
   "cell_type": "code",
   "execution_count": null,
   "id": "e2e9a24f",
   "metadata": {},
   "outputs": [],
   "source": [
    "##iki cia seni uzdaviniai is 09-28 dienos"
   ]
  }
 ],
 "metadata": {
  "kernelspec": {
   "display_name": "Python 3 (ipykernel)",
   "language": "python",
   "name": "python3"
  },
  "language_info": {
   "codemirror_mode": {
    "name": "ipython",
    "version": 3
   },
   "file_extension": ".py",
   "mimetype": "text/x-python",
   "name": "python",
   "nbconvert_exporter": "python",
   "pygments_lexer": "ipython3",
   "version": "3.10.7"
  },
  "vscode": {
   "interpreter": {
    "hash": "193ac51c8217c77c24ce893c26da84c560abaceeed6dff25535e547379aefb26"
   }
  }
 },
 "nbformat": 4,
 "nbformat_minor": 5
}
