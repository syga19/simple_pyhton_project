{
 "cells": [
  {
   "cell_type": "markdown",
   "metadata": {},
   "source": [
    "# 2022-10-03"
   ]
  },
  {
   "cell_type": "markdown",
   "metadata": {},
   "source": [
    "## Užuotis 1\n",
    "Duotas skaičius `n`. Rasti skaičiaus `n` faktorialą `n!`"
   ]
  },
  {
   "cell_type": "code",
   "execution_count": 12,
   "metadata": {},
   "outputs": [
    {
     "data": {
      "text/plain": [
       "3628800"
      ]
     },
     "execution_count": 12,
     "metadata": {},
     "output_type": "execute_result"
    }
   ],
   "source": [
    "# 1\n",
    "\n",
    "def find_factorial(x:int) -> int: ## type hint int\n",
    "    if x == 1:\n",
    "        return 1\n",
    "    else:\n",
    "        return (x * find_factorial(x-1))\n",
    "\n",
    "find_factorial(10)       "
   ]
  },
  {
   "cell_type": "markdown",
   "metadata": {},
   "source": [
    "## Užduotis 2\n",
    "Fibonačio eilutė - tai skaičių eilutė, kurios `n`-tasis narys yra prieš tai buvusių `n-1` bei `n-2` narių suma:\n",
    "```\n",
    "0, 1, 1, 2, 3, 5, 8, 13,…\n",
    "```\n",
    "Atspausdinti visą fibonačio seką iki n-tojo nario `n`. Pvz `n = 7` -> `0, 1, 1, 2, 3, 5, 8`"
   ]
  },
  {
   "cell_type": "code",
   "execution_count": 13,
   "metadata": {},
   "outputs": [
    {
     "name": "stdout",
     "output_type": "stream",
     "text": [
      "0\n",
      "1\n",
      "1\n",
      "2\n",
      "3\n",
      "5\n",
      "8\n",
      "13\n",
      "21\n",
      "34\n"
     ]
    }
   ],
   "source": [
    "# 2\n",
    "def fibonacci_linear(n):\n",
    "    if n <= 1:\n",
    "        return n\n",
    "    else:\n",
    "        return fibonacci_linear(n-1) + fibonacci_linear(n-2)   \n",
    "\n",
    "n = 10\n",
    "#print(fibonacci_linear(9))\n",
    "for i in range(n):\n",
    "    print(fibonacci_linear(i))"
   ]
  },
  {
   "cell_type": "markdown",
   "metadata": {},
   "source": [
    "## Užduotis 3\n",
    "Naudojant rekursiją, rasti duotojo skaičiaus skaitmenų sumą. Pvz.: `n = 134` -> `8`"
   ]
  },
  {
   "cell_type": "code",
   "execution_count": 34,
   "metadata": {},
   "outputs": [
    {
     "name": "stdout",
     "output_type": "stream",
     "text": [
      "10\n"
     ]
    }
   ],
   "source": [
    "# 3\n",
    "\n",
    "def sumation(n):\n",
    "    if n < 10:\n",
    "        return n  \n",
    "    return (n % 10) + sumation(n // 10)\n",
    "\n",
    "print(sumation(int(input())))"
   ]
  },
  {
   "cell_type": "markdown",
   "metadata": {},
   "source": [
    "## Užduotis 4\n",
    "Naudojant rekursiją, rasti duotojo skaičiaus lyginių skaitmenų sumą. Pvz.: `n = 134` -> `4`"
   ]
  },
  {
   "cell_type": "code",
   "execution_count": 32,
   "metadata": {},
   "outputs": [
    {
     "name": "stdout",
     "output_type": "stream",
     "text": [
      "4\n"
     ]
    }
   ],
   "source": [
    "# 4\n",
    "\n",
    "def sumation(n):\n",
    "    if n < 10:\n",
    "        return n  \n",
    "    if n % 2 == 0:        \n",
    "        return (n % 10) + sumation(n // 10)\n",
    "    else:\n",
    "        return sumation(n // 10)  \n",
    "\n",
    "print(sumation(int(413)))"
   ]
  },
  {
   "cell_type": "markdown",
   "metadata": {},
   "source": [
    "## Užduotis 5\n",
    "Naudojant rekursiją, atspausdinti duotą žodį `s` atvirkščiai. Pvz.: `s = \"olleh\" -> \"hello\""
   ]
  },
  {
   "cell_type": "code",
   "execution_count": 21,
   "metadata": {},
   "outputs": [
    {
     "name": "stdout",
     "output_type": "stream",
     "text": [
      "agiS\n"
     ]
    }
   ],
   "source": [
    "# 5\n",
    "def reverse_string(text):\n",
    "    return text[::-1]\n",
    "\n",
    "print(reverse_string(str(input())))"
   ]
  },
  {
   "cell_type": "code",
   "execution_count": 23,
   "metadata": {},
   "outputs": [
    {
     "name": "stdout",
     "output_type": "stream",
     "text": [
      "iga\n",
      "S\n",
      "ga\n",
      "i\n",
      "a\n",
      "g\n",
      "agiS\n"
     ]
    }
   ],
   "source": [
    "def reverse_string(text):\n",
    "    if len(text) == 1:\n",
    "        return text\n",
    "    ##print(text[1:])    paskutini nari text pasiemi \n",
    "    ##print(text[0:1])   \n",
    "    return reverse_string(text[1:]) + text[0:1]\n",
    "\n",
    "print(reverse_string(str(input())))"
   ]
  },
  {
   "cell_type": "markdown",
   "metadata": {},
   "source": [
    "# "
   ]
  },
  {
   "cell_type": "markdown",
   "metadata": {},
   "source": []
  }
 ],
 "metadata": {
  "kernelspec": {
   "display_name": "Python 3 (ipykernel)",
   "language": "python",
   "name": "python3"
  },
  "language_info": {
   "codemirror_mode": {
    "name": "ipython",
    "version": 3
   },
   "file_extension": ".py",
   "mimetype": "text/x-python",
   "name": "python",
   "nbconvert_exporter": "python",
   "pygments_lexer": "ipython3",
   "version": "3.10.7"
  },
  "vscode": {
   "interpreter": {
    "hash": "193ac51c8217c77c24ce893c26da84c560abaceeed6dff25535e547379aefb26"
   }
  }
 },
 "nbformat": 4,
 "nbformat_minor": 4
}
