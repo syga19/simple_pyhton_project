{
 "cells": [
  {
   "cell_type": "code",
   "execution_count": null,
   "metadata": {},
   "outputs": [],
   "source": []
  }
 ],
 "metadata": {
  "kernelspec": {
   "display_name": "Python 3.10.7 ('.venv': poetry)",
   "language": "python",
   "name": "python3"
  },
  "language_info": {
   "name": "python",
   "version": "3.10.7"
  },
  "orig_nbformat": 4,
  "vscode": {
   "interpreter": {
    "hash": "193ac51c8217c77c24ce893c26da84c560abaceeed6dff25535e547379aefb26"
   }
  }
 },
 "nbformat": 4,
 "nbformat_minor": 2
}
