{
 "cells": [
  {
   "cell_type": "markdown",
   "metadata": {},
   "source": [
    "## Exercise - Tesla car factory"
   ]
  },
  {
   "cell_type": "markdown",
   "metadata": {},
   "source": [
    "To check your understanding of OOP, you will need to complete a couple of tasks and create your own Tesla factory! Does not it sound interesting? If you get stuck on a specific task, revisit learning material where you will find all needed information to complete this exercise."
   ]
  },
  {
   "cell_type": "markdown",
   "metadata": {},
   "source": [
    "### The task\n",
    "First you should upgrade the provided Tesla class to be able to set a car's color when creating an object. You should also create a `@getter` that returns the color of the car (color must be a private variable). You should not remove anything that is written down below, just modify the class by adding your own code."
   ]
  },
  {
   "cell_type": "code",
   "execution_count": 63,
   "metadata": {},
   "outputs": [],
   "source": [
    "class Tesla:\n",
    "    # WRITE YOUR CODE HERE\n",
    "    def __init__(self, model: str, color: str, autopilot: bool = False):\n",
    "        self.__model = model\n",
    "        self.__battery_charge = 99.9\n",
    "        self.__is_locked = True\n",
    "        self.__seats_count = 5\n",
    "        self.__color = color\n",
    "        self.__autopilot = autopilot\n",
    "        \n",
    "    def welcome(self) -> str:\n",
    "        raise NotImplementedError\n",
    "\n",
    "    @property\n",
    "    def color(self) -> str:\n",
    "        return self.__color\n",
    "\n",
    "    @property\n",
    "    def autopilot(self) -> bool:\n",
    "        return self.__autopilot    \n",
    "\n",
    "    @color.setter\n",
    "    def color_set(self, color: str) -> str:\n",
    "        self.__color = color\n",
    "        return color  \n",
    "\n",
    "    def autopilot(self, obsticle: str) -> str:\n",
    "        if self.__autopilot:\n",
    "            return f\"Tesla model {self.__model} avoids {obsticle}\"    \n",
    "        else:\n",
    "            return \"Autopilot is not available\"\n",
    "\n",
    "    @property\n",
    "    def seats_count(self) -> int:\n",
    "        return self.__seats_count\n",
    "\n",
    "    @seats_count.setter\n",
    "    def seats_count(self, seats) -> int:\n",
    "        if seats < 2:\n",
    "            print(\"Seats count can't be less than 2\")\n",
    "            return None\n",
    "        else:    \n",
    "            self.__seats_count = seats\n",
    "\n",
    "    def open_doors(self) -> None:\n",
    "        if self.__is_locked:\n",
    "            return \"Car is locked!\"\n",
    "        else:\n",
    "            return \"Doors opens sideways\"\n",
    "\n",
    "    def unlock(self):\n",
    "        self.__is_locked = False  \n",
    "            \n",
    "    def check_battery_level(self):\n",
    "        return f\"Battery charge level is {self.__battery_charge}%\"\n",
    "\n",
    "    def charge_battery(self):  \n",
    "        self.__battery_charge = 100\n",
    "        self.check_battery_level()  "
   ]
  },
  {
   "cell_type": "code",
   "execution_count": 43,
   "metadata": {},
   "outputs": [],
   "source": [
    "tesla = Tesla(\"S\", \"red\")\n",
    "assert tesla.color == \"red\""
   ]
  },
  {
   "cell_type": "markdown",
   "metadata": {},
   "source": [
    "Now you should update the same class to support the addition of autopilot (bool variable). By default it should be set to `False`. You should also complete the function that enables the car to use autopilot if it is enabled."
   ]
  },
  {
   "cell_type": "markdown",
   "metadata": {},
   "source": [
    "```python\n",
    "class Tesla:\n",
    "    # CODE ABOVE\n",
    "        \n",
    "    def autopilot(self, obsticle: str) -> str:\n",
    "        # COMPLETE THE FUNCION\n",
    "        if self.__autopilot:\n",
    "            return f\"Tesla {} avoids {}\"\n",
    "```"
   ]
  },
  {
   "cell_type": "code",
   "execution_count": 48,
   "metadata": {},
   "outputs": [],
   "source": [
    "tesla = Tesla(\"S\", \"red\")\n",
    "assert tesla.color == \"red\"\n",
    "assert tesla.autopilot(\"tree\") == \"Autopilot is not available\"\n",
    "\n",
    "tesla2 = Tesla(\"S\", \"blue\", autopilot = True)\n",
    "assert tesla2.color == \"blue\"\n",
    "assert tesla2.autopilot(\"tree\") == \"Tesla model S avoids tree\""
   ]
  },
  {
   "cell_type": "markdown",
   "metadata": {},
   "source": [
    "By default, Tesla Model S comes with 5 seats but we can improve it by changing the number of seats of our car (it is our factory after all). You should create a `@getter` that returns the number of seats and `@setter` that changes it (number of seats cannot be lower than 2!)"
   ]
  },
  {
   "cell_type": "code",
   "execution_count": 54,
   "metadata": {},
   "outputs": [
    {
     "name": "stdout",
     "output_type": "stream",
     "text": [
      "Seats count can't be less than 2\n"
     ]
    }
   ],
   "source": [
    "tesla = Tesla(\"S\", \"red\")\n",
    "assert tesla.seats_count == 5\n",
    "tesla.seats_count = 1\n",
    "assert tesla.seats_count == 5\n",
    "tesla.seats_count = 6\n",
    "assert tesla.seats_count == 6"
   ]
  },
  {
   "cell_type": "markdown",
   "metadata": {},
   "source": [
    "Now you should make the car safe from unwanted guests. Our Tesla should have lock functionality. You should make three functions: one that locks the car, the other that unlocks it, and the function that opens the car's doors if it is unlocked.\n",
    "```python\n",
    "class Tesla:\n",
    "    # CODE ABOVE\n",
    "    \n",
    "    def open_doors(self) -> str:\n",
    "        # COMPLETE THE FUNCION\n",
    "            return \"Doors opens sideways\"\n",
    "```"
   ]
  },
  {
   "cell_type": "code",
   "execution_count": 60,
   "metadata": {},
   "outputs": [],
   "source": [
    "tesla = Tesla(\"S\", \"red\")\n",
    "assert tesla.open_doors() == \"Car is locked!\"\n",
    "tesla.unlock()\n",
    "assert tesla.open_doors() == \"Doors opens sideways\""
   ]
  },
  {
   "cell_type": "markdown",
   "metadata": {},
   "source": [
    "Now we should enable charging of our Tesla. You need to create two more methods: one that returns battery level and another that charges the car.\n",
    "```python\n",
    "class Tesla:\n",
    "    # CODE ABOVE\n",
    "\n",
    "    def check_battery_level(self) -> str:\n",
    "        # COMPLETE THE FUNCTION\n",
    "    \n",
    "    def charge_battery(self):\n",
    "        # COMPLETE THE FUNCTION\n",
    "        # BATTERY LEVEL SHOULD BE SET TO 100\n",
    "        self.check_battery_level()\n",
    "```"
   ]
  },
  {
   "cell_type": "code",
   "execution_count": 64,
   "metadata": {},
   "outputs": [],
   "source": [
    "tesla = Tesla(\"S\", \"red\")\n",
    "assert tesla.check_battery_level() == \"Battery charge level is 99.9%\"\n",
    "tesla.charge_battery()\n",
    "assert tesla.check_battery_level() == \"Battery charge level is 100%\""
   ]
  },
  {
   "cell_type": "markdown",
   "metadata": {},
   "source": [
    "Now we should make Tesla drive! To do it you will need to add another attribute to the class initializer - `efficiency: float` by default it should be set to `0.3`. Efficiency defines how far a car can drive without the need of charging it. Battery level updates this way:\n",
    "```python\n",
    "battery_discharge_percent = travel_range * self.__efficiency\n",
    "```\n",
    "You should create a new method `drive` that enables Tesla to travel to the destination. You should also check if the car will be able to travel the desired range.\n",
    "```python\n",
    "class Tesla:\n",
    "    # CODE ABOVE\n",
    "\n",
    "    def drive(self, travel_range: float):\n",
    "        # COMPLETE THE FUNCTION\n",
    "        if self.__battery_charge - battery_discharge_percent >= 0:\n",
    "            # ADD YOUR CODE\n",
    "            self.check_battery_level()\n",
    "        # ADD YOUR CODE\n",
    "```"
   ]
  },
  {
   "cell_type": "code",
   "execution_count": 51,
   "metadata": {},
   "outputs": [
    {
     "name": "stdout",
     "output_type": "stream",
     "text": [
      "Battery charge level is too low!\n"
     ]
    }
   ],
   "source": [
    "tesla = Tesla(\"S\", \"red\")\n",
    "assert tesla.check_battery_level() == \"Battery charge level is 99.9%\"\n",
    "assert tesla.drive(100) == \"Battery charge level is 69.9%\"\n",
    "assert tesla.drive(420) == \"Battery charge level is 69.9%\"\n",
    "tesla.charge_battery()\n",
    "assert tesla.check_battery_level() == \"Battery charge level is 100%\""
   ]
  },
  {
   "cell_type": "markdown",
   "metadata": {},
   "source": [
    "Now you should create a more defined Tesla car class - `ModelX`. This class should inherit everything from `Tesla` class and add more functionality."
   ]
  },
  {
   "cell_type": "code",
   "execution_count": null,
   "metadata": {},
   "outputs": [],
   "source": [
    "class ModelX(Tesla):\n",
    "    def __init__(self, color: str, autopilot: bool = False):\n",
    "        # PASS REQUIRED VARIABLES TO INIT FUNCTION. EFFICIENCY SHOULD BE SET TO 0.125\n",
    "        super().__init__(\"Model3\")"
   ]
  },
  {
   "cell_type": "code",
   "execution_count": 56,
   "metadata": {},
   "outputs": [],
   "source": [
    "modelx = ModelX(\"black\")\n",
    "modelx.unlock()\n",
    "assert modelx.open_doors() == \"Doors opens sideways\""
   ]
  },
  {
   "cell_type": "markdown",
   "metadata": {},
   "source": [
    "Cool, your TeslaX works! But as you can see ModelX opens doors sideways. That is completely wrong! As you can see from the pictures, ModelX opens the doors towards the roof! \n",
    "<div>\n",
    "    <img src=\"https://p.kindpng.com/picc/s/298-2980110_tesla-car-tesla-model-y-open-doors-hd.png\" width=\"300px\" />\n",
    "</div>"
   ]
  },
  {
   "cell_type": "markdown",
   "metadata": {},
   "source": [
    "You need to override `open_doors` method to adjust to the desired way of opening the car's doors\n",
    "\n",
    "```python\n",
    "class ModelX(Tesla):\n",
    "    # CODE ABOVE\n",
    "    \n",
    "    def open_doors(self):\n",
    "        # COMPLETE THE FUNCTION\n",
    "```"
   ]
  },
  {
   "cell_type": "code",
   "execution_count": 62,
   "metadata": {},
   "outputs": [],
   "source": [
    "modelx = ModelX(\"black\")\n",
    "modelx.unlock()\n",
    "assert modelx.open_doors() == \"Doors opens towards roof\""
   ]
  },
  {
   "cell_type": "markdown",
   "metadata": {},
   "source": [
    "The last step is to make TeslaX welcome you. You might noticed strange method `welcome` we wrote:\n",
    "```python\n",
    "def welcome(self) -> str:\n",
    "    raise NotImplementedError\n",
    "```\n",
    "As you can see it actually does nothing and if you try to call this method using object created from `Tesla` class, you will get an error. We need to fix it by overriding this function inside `ModelX` class. Your ModelX should welcome you when you call the `welcome` method."
   ]
  },
  {
   "cell_type": "code",
   "execution_count": 65,
   "metadata": {},
   "outputs": [],
   "source": [
    "modelx = ModelX(\"black\")\n",
    "assert modelx.welcome() == \"Hello from ModelX!\""
   ]
  },
  {
   "cell_type": "markdown",
   "metadata": {},
   "source": [
    "Awesome! You created your own Tesla factory! By now you know the main aspects of OOP and how to implement them. Remember the code you wrote, you will need to use it in the next exercises."
   ]
  }
 ],
 "metadata": {
  "kernelspec": {
   "display_name": "Python 3.10.7 ('.venv': poetry)",
   "language": "python",
   "name": "python3"
  },
  "language_info": {
   "codemirror_mode": {
    "name": "ipython",
    "version": 3
   },
   "file_extension": ".py",
   "mimetype": "text/x-python",
   "name": "python",
   "nbconvert_exporter": "python",
   "pygments_lexer": "ipython3",
   "version": "3.10.7"
  },
  "vscode": {
   "interpreter": {
    "hash": "193ac51c8217c77c24ce893c26da84c560abaceeed6dff25535e547379aefb26"
   }
  }
 },
 "nbformat": 4,
 "nbformat_minor": 4
}
