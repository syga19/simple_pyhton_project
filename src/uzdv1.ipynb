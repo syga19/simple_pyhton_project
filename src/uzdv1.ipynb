{
 "cells": [
  {
   "cell_type": "code",
   "execution_count": 2,
   "id": "6bccf3e5",
   "metadata": {},
   "outputs": [
    {
     "name": "stdout",
     "output_type": "stream",
     "text": [
      "-6\n"
     ]
    }
   ],
   "source": [
    "num1 = int(input())\n",
    "num2 = int(input())\n",
    "print(num1 + num2)"
   ]
  },
  {
   "cell_type": "code",
   "execution_count": 38,
   "id": "bd0c5c9d",
   "metadata": {},
   "outputs": [
    {
     "name": "stdout",
     "output_type": "stream",
     "text": [
      "10\n"
     ]
    }
   ],
   "source": []
  },
  {
   "cell_type": "code",
   "execution_count": null,
   "id": "c6f0acd2",
   "metadata": {},
   "outputs": [],
   "source": [
    "## Given a positive integer n, return the smallest positive integer that is a multiple of both 2 and n"
   ]
  },
  {
   "cell_type": "code",
   "execution_count": 42,
   "id": "b7136ab5",
   "metadata": {},
   "outputs": [
    {
     "name": "stdout",
     "output_type": "stream",
     "text": [
      "10\n"
     ]
    }
   ],
   "source": [
    "import math\n",
    "n = 6\n",
    "math.lcm(n, 2)\n",
    "print(math.lcm(n, 2))\n",
    "\n",
    "## OR\n",
    "n = int(input())\n",
    "for i in range(3, n) :\n",
    "    if not i % 2 and not i % n:\n",
    "        print(i)\n",
    "        break\n"
   ]
  },
  {
   "cell_type": "code",
   "execution_count": null,
   "id": "86adfc05",
   "metadata": {},
   "outputs": [],
   "source": [
    "## Given an array of integers nums and an integer target, return indices of the two numbers such that they add up to target"
   ]
  },
  {
   "cell_type": "code",
   "execution_count": 48,
   "id": "3df52ce8",
   "metadata": {},
   "outputs": [
    {
     "name": "stdout",
     "output_type": "stream",
     "text": [
      "7 2\n",
      "2 7\n"
     ]
    }
   ],
   "source": [
    "nums   = [15, 7, 11, 2]\n",
    "target = 9\n",
    "\n",
    "for i in range(0, len(nums) -1):\n",
    "    for j in range(i, len(nums)):\n",
    "        if nums[i] + nums[j] == target:\n",
    "            print(nums[i], nums[j])\n",
    "\n",
    "nums   = [15, 7, 11, 2]\n",
    "target = 9   \n",
    "   \n",
    "nums.sort()\n",
    "\n",
    "for i in range(0, len(nums) - 1):\n",
    "    if nums[i] + nums[i + 1] == target:\n",
    "        print(nums[i], nums[i + 1])"
   ]
  },
  {
   "cell_type": "code",
   "execution_count": null,
   "id": "7f40c319",
   "metadata": {},
   "outputs": [],
   "source": [
    "## Given a string s consisting of words and spaces, return the length of the last word in the string\n",
    "## A word is a maximal substring consisting of non-space characters only"
   ]
  },
  {
   "cell_type": "code",
   "execution_count": 58,
   "id": "ac2eea50",
   "metadata": {},
   "outputs": [
    {
     "name": "stdout",
     "output_type": "stream",
     "text": [
      "4\n",
      "['', '', '', 'fly', 'me', '', '', 'to', '', '', 'the', 'moon', '', '', '']\n",
      "0\n",
      "4\n"
     ]
    }
   ],
   "source": [
    "s = \"   fly me   to   the moon   \"\n",
    "print(len(s.split()[-1]))\n",
    "\n",
    "g = s.split(' ') ## return list of strings by specified separator\n",
    "print(g)\n",
    "print(len(g[1]))\n",
    "\n",
    "string    = \"   fly me   to   the moon   \"\n",
    "last_word = \"\"\n",
    "previous  = \" \"\n",
    "for i in reversed(string):\n",
    "    if i == ' ' and previous == ' ':\n",
    "        continue\n",
    "    elif i == ' ':\n",
    "        break\n",
    "    else:\n",
    "        last_word += i\n",
    "        previous = i\n",
    "   \n",
    "print(len(last_word))"
   ]
  },
  {
   "cell_type": "code",
   "execution_count": null,
   "id": "1240a42a",
   "metadata": {},
   "outputs": [],
   "source": [
    "## Given an array of integers nums and an integer target, return indices of the two numbers such that they add up to targer"
   ]
  },
  {
   "cell_type": "code",
   "execution_count": 59,
   "id": "be17628a",
   "metadata": {},
   "outputs": [
    {
     "name": "stdout",
     "output_type": "stream",
     "text": [
      "0 1\n"
     ]
    }
   ],
   "source": [
    "arr1 = [2, 7, 11, 15] \n",
    "import itertools\n",
    "for x,y in itertools.combinations(arr1, 2):\n",
    "    if x+y: \n",
    "        print(arr1.index(x), arr1.index(y))\n",
    "        break\n",
    "else:\n",
    "    print(\"FALSE\") "
   ]
  },
  {
   "cell_type": "code",
   "execution_count": 67,
   "id": "0cfe4108",
   "metadata": {},
   "outputs": [
    {
     "name": "stdout",
     "output_type": "stream",
     "text": [
      "1\n",
      "2\n",
      "3\n"
     ]
    }
   ],
   "source": [
    "s   = (\"III\")\n",
    "dic = {\"I\": 1, \"V\": 5, \"X\": 10, \"L\": 50, \"C\": 100, \"D\": 500, \"M\": 100}\n",
    "sum = 0\n",
    "for i in s:\n",
    "    sum += dic[i]\n",
    "    print(sum)"
   ]
  }
 ],
 "metadata": {
  "kernelspec": {
   "display_name": "Python 3 (ipykernel)",
   "language": "python",
   "name": "python3"
  },
  "language_info": {
   "codemirror_mode": {
    "name": "ipython",
    "version": 3
   },
   "file_extension": ".py",
   "mimetype": "text/x-python",
   "name": "python",
   "nbconvert_exporter": "python",
   "pygments_lexer": "ipython3",
   "version": "3.10.7"
  },
  "vscode": {
   "interpreter": {
    "hash": "193ac51c8217c77c24ce893c26da84c560abaceeed6dff25535e547379aefb26"
   }
  }
 },
 "nbformat": 4,
 "nbformat_minor": 5
}
